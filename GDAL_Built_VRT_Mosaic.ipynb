{
 "cells": [
  {
   "cell_type": "markdown",
   "id": "communist-julian",
   "metadata": {},
   "source": [
    "### GDAL build VRT and MOSAIC\n",
    "This function should allow you to point to a monthly quad download and then generate a single mosaiced Geotiff file from those quads. The input it needs are \n",
    "* directory_path: full path to the directory where we saved each monthly mosaic so /path to jan quads 2022/ for example\n",
    "* vrt_path: full path to a file ending in filename.vrt GDAL uses this to then stitch the mosaic \n",
    "* geotiff_path: Full path to where you want your mosaic file ending in for example /path/mosaic_jan2022.tif"
   ]
  },
  {
   "cell_type": "code",
   "execution_count": 10,
   "id": "structural-deviation",
   "metadata": {},
   "outputs": [
    {
     "name": "stdout",
     "output_type": "stream",
     "text": [
      "Merging a total of 9\n",
      "gdalbuildvrt projects/shared-buckets/tkerr1/data/DRC_VRTs/Apr2021.vrt /projects/shared-buckets/tkerr1/data/NICFI_basemaps/Apr2021/*.tif -vrtnodata 0\n",
      "gdal_translate --config GDAL_CACHE_MAX 128 -of GTiff -co \"BIGTIFF=YES\" -co \"COMPRESS=LZW\" -co \"TILED=TRUE\" projects/shared-buckets/tkerr1/data/DRC_VRTs/Apr2021.vrt projects/shared-buckets/tkerr1/data/DRC_NICFI_Mosaics/Mosaic_Apr2021.tif -co PREDICTOR=2\n"
     ]
    }
   ],
   "source": [
    "import os\n",
    "\n",
    "def merge(directory,vrt_path,geotiff_path):\n",
    "    print(f'Merging a total of {len(os.listdir(directory))}')\n",
    "    try:\n",
    "        print(f'gdalbuildvrt {vrt_path} {directory}/*.tif -vrtnodata 0')\n",
    "    except Exception as e:\n",
    "        print(e)\n",
    "    try:\n",
    "        print(f'gdal_translate --config GDAL_CACHE_MAX 128 -of GTiff -co \"BIGTIFF=YES\" -co \"COMPRESS=LZW\" -co \"TILED=TRUE\" {vrt_path} {geotiff_path} -co PREDICTOR=2')\n",
    "        os.system(f'gdal_translate --config GDAL_CACHE_MAX 128 -of GTiff -co \"BIGTIFF=YES\" -co \"COMPRESS=LZW\" -co \"TILED=TRUE\" {vrt_path} {geotiff_path} -co PREDICTOR=2')\n",
    "    except Exception as e:\n",
    "        print(e)\n",
    "\n",
    "# Change these according to which month I'm investigating\n",
    "merge(directory='/projects/shared-buckets/tkerr1/data/NICFI_basemaps/Apr2021',\n",
    "vrt_path='projects/shared-buckets/tkerr1/data/DRC_VRTs/Apr2021.vrt',\n",
    "geotiff_path='projects/shared-buckets/tkerr1/data/DRC_NICFI_Mosaics/Mosaic_Apr2021.tif')"
   ]
  },
  {
   "cell_type": "code",
   "execution_count": null,
   "id": "infinite-queen",
   "metadata": {},
   "outputs": [],
   "source": []
  }
 ],
 "metadata": {
  "kernelspec": {
   "display_name": "Python 3",
   "language": "python",
   "name": "python3"
  },
  "language_info": {
   "codemirror_mode": {
    "name": "ipython",
    "version": 3
   },
   "file_extension": ".py",
   "mimetype": "text/x-python",
   "name": "python",
   "nbconvert_exporter": "python",
   "pygments_lexer": "ipython3",
   "version": "3.7.4"
  }
 },
 "nbformat": 4,
 "nbformat_minor": 5
}
